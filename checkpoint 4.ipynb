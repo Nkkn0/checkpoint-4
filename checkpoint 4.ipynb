{
 "cells": [
  {
   "cell_type": "code",
   "execution_count": 19,
   "id": "502d2c46",
   "metadata": {},
   "outputs": [
    {
     "name": "stdout",
     "output_type": "stream",
     "text": [
      "36\n"
     ]
    }
   ],
   "source": [
    "def multiplyList(myList) :\n",
    "    result = 1\n",
    "    for n in myList:\n",
    "         result = result * n\n",
    "    return result\n",
    "list1 = [2,3,6]\n",
    "print(multiplyList(list1))"
   ]
  },
  {
   "cell_type": "code",
   "execution_count": 28,
   "id": "8833aebe",
   "metadata": {},
   "outputs": [
    {
     "name": "stdout",
     "output_type": "stream",
     "text": [
      "Reversed List: [(2, 1), (2, 3), (4, 4), (1, 2), (2, 5)]\n"
     ]
    }
   ],
   "source": [
    "my_list = [(2,5),(1,2),(4,4),(2,3),(2,1)]\n",
    "my_list.reverse()\n",
    "\n",
    "print('Reversed List:', my_list) \n"
   ]
  },
  {
   "cell_type": "code",
   "execution_count": 29,
   "id": "d03f0c6f",
   "metadata": {},
   "outputs": [
    {
     "data": {
      "text/plain": [
       "[0, 2, 4, 6, 8]"
      ]
     },
     "execution_count": 29,
     "metadata": {},
     "output_type": "execute_result"
    }
   ],
   "source": [
    "[i for i in range(10) if i%2==0 ]"
   ]
  },
  {
   "cell_type": "code",
   "execution_count": 36,
   "id": "4b8aeb2b",
   "metadata": {},
   "outputs": [
    {
     "name": "stdout",
     "output_type": "stream",
     "text": [
      "{'a': 400, 'b': 400, 'c': 300, 'd': 400}\n"
     ]
    }
   ],
   "source": [
    "d1 = {'a': 100, 'b': 200, 'c':300}\n",
    "d2 = {'a': 300, 'b': 200, 'd':400}\n",
    "d3 = dict(d1) \n",
    "d3.update(d2) \n",
    "for n, m in d1.items():\n",
    "    for x, y in d2.items():\n",
    "        if n == x:\n",
    "            d3[n]=(m+y)\n",
    "print(d3)"
   ]
  },
  {
   "cell_type": "code",
   "execution_count": 1,
   "id": "22bc5dfb",
   "metadata": {},
   "outputs": [
    {
     "name": "stdout",
     "output_type": "stream",
     "text": [
      "[('item3', '24.5'), ('item2', '15.10'), ('item1', '12.20')]\n"
     ]
    }
   ],
   "source": [
    "price = [('item1', '12.20'), ('item2', '15.10'), ('item3', '24.5')]\n",
    "print( sorted(price, key=lambda x: float(x[1]), reverse=True))"
   ]
  },
  {
   "cell_type": "code",
   "execution_count": null,
   "id": "32a06a59",
   "metadata": {},
   "outputs": [],
   "source": []
  }
 ],
 "metadata": {
  "kernelspec": {
   "display_name": "Python 3 (ipykernel)",
   "language": "python",
   "name": "python3"
  },
  "language_info": {
   "codemirror_mode": {
    "name": "ipython",
    "version": 3
   },
   "file_extension": ".py",
   "mimetype": "text/x-python",
   "name": "python",
   "nbconvert_exporter": "python",
   "pygments_lexer": "ipython3",
   "version": "3.9.12"
  }
 },
 "nbformat": 4,
 "nbformat_minor": 5
}
